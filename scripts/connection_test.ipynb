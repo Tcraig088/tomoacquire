{
 "cells": [
  {
   "cell_type": "code",
   "execution_count": 4,
   "metadata": {},
   "outputs": [
    {
     "name": "stderr",
     "output_type": "stream",
     "text": [
      "2025-07-15 17:23:09,040 - DEBUG - Scan settings: {'id': 'scan_reply'}\n",
      "2025-07-15 17:23:09,040 - DEBUG - Scan start/stop: {'success': True, 'id': 'imaging_reply'}\n"
     ]
    },
    {
     "ename": "KeyboardInterrupt",
     "evalue": "",
     "output_type": "error",
     "traceback": [
      "\u001b[1;31m---------------------------------------------------------------------------\u001b[0m",
      "\u001b[1;31mKeyboardInterrupt\u001b[0m                         Traceback (most recent call last)",
      "Cell \u001b[1;32mIn[4], line 12\u001b[0m\n\u001b[0;32m     10\u001b[0m microscope\u001b[38;5;241m.\u001b[39mstart_scan()\n\u001b[0;32m     11\u001b[0m \u001b[38;5;28;01mwhile\u001b[39;00m \u001b[38;5;28;01mTrue\u001b[39;00m:\n\u001b[1;32m---> 12\u001b[0m     \u001b[43mtime\u001b[49m\u001b[38;5;241;43m.\u001b[39;49m\u001b[43msleep\u001b[49m\u001b[43m(\u001b[49m\u001b[38;5;241;43m1\u001b[39;49m\u001b[43m)\u001b[49m\n",
      "\u001b[1;31mKeyboardInterrupt\u001b[0m: "
     ]
    }
   ],
   "source": [
    "from tomoacquire.registrations import TOMOACQUIRE_MICROSCOPES\n",
    "import time \n",
    "\n",
    "key = 'TEMSCRIPT'\n",
    "Microscope = TOMOACQUIRE_MICROSCOPES[key].value\n",
    "microscope = Microscope(address=\"192.168.0.1\", request=50000, subscribe=50001)\n",
    "microscope.connect()\n",
    "\n",
    "microscope.set_scan(isscan=True, dwell_time=0.5, frame_size=1024, scan_time=0.63, detectors=['HAADF'])\n",
    "microscope.start_scan()\n",
    "while True:\n",
    "    time.sleep(1)"
   ]
  }
 ],
 "metadata": {
  "kernelspec": {
   "display_name": "tdenv",
   "language": "python",
   "name": "python3"
  },
  "language_info": {
   "codemirror_mode": {
    "name": "ipython",
    "version": 3
   },
   "file_extension": ".py",
   "mimetype": "text/x-python",
   "name": "python",
   "nbconvert_exporter": "python",
   "pygments_lexer": "ipython3",
   "version": "3.12.5"
  }
 },
 "nbformat": 4,
 "nbformat_minor": 2
}

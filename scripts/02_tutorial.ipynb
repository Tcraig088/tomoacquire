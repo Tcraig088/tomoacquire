{
 "cells": [
  {
   "cell_type": "code",
   "execution_count": null,
   "metadata": {},
   "outputs": [],
   "source": [
    "   \n",
    "        while self.state in accepted_states:\n",
    "            msg = self.request_socket.recv_json()\n",
    "            match msg['id']:\n",
    "                case 'connect_request':\n",
    "                    self.state = StateController.CONNECTED\n",
    "                    _dict = {}\n",
    "                    _dict['id']= 'connect_reply'\n",
    "                    _dict['detectors'] = self.detector_options\n",
    "                    _dict['magnifications'] = self.magnification_options\n",
    "                    _dict['magnification'] = self.microscope.get_stem_magnification()\n",
    "                    _dict['blanked'] = self.microscope.get_beam_blanked()\n",
    "                    _dict['screen_current'] = self.microscope.get_screen_current()\n",
    "                \n",
    "                case 'scan_request':\n",
    "                    msg.pop('id')\n",
    "                    self.state = StateController.PROCESSING\n",
    "                    while self.state != StateController.CONNECTED:\n",
    "                        time.sleep(0.01)\n",
    "                    self.set_scan_parameters(**msg)\n",
    "                    _dict = {}\n",
    "                    _dict['id'] = 'scan_reply'\n",
    "\n",
    "                case 'move_request':\n",
    "                    msg.pop('id')\n",
    "                    self.move(**msg)\n",
    "                    _dict = {}\n",
    "                    _dict['id'] = 'move_reply'\n",
    "                    _dict_pos = self.microscope.get_stage_position()\n",
    "                    _dict['x'] = _dict_pos['x']\n",
    "                    _dict['y'] = _dict_pos['y']\n",
    "                    _dict['z'] = _dict_pos['z']\n",
    "                    _dict['tilt'] = _dict_pos['a']\n",
    "\n",
    "                case 'postion_request':\n",
    "                    msg.pop('id')\n",
    "                    _dict = {}\n",
    "                    _dict['id'] = 'position_reply'\n",
    "                    _dict_pos = self.microscope.get_stage_position()\n",
    "                    _dict['x'] = _dict_pos['x']\n",
    "                    _dict['y'] = _dict_pos['y']\n",
    "                    _dict['z'] = _dict_pos['z']\n",
    "                    _dict['tilt'] = _dict_pos['a']\n",
    "\n",
    "                case 'blank_request':\n",
    "                    msg.pop('id')\n",
    "                    self.microscope.set_beam_blanked(msg['blanked'])\n",
    "                    _dict = {}\n",
    "                    _dict['id'] = 'blank_reply'\n",
    "                    _dict['blanked'] = self.microscope.get_beam_blanked()\n",
    "\n",
    "                case 'magnification_request':\n",
    "                    msg.pop('id')\n",
    "                    self.microscope.set_stem_magnification(msg['magnification'])\n",
    "                    _dict = {}\n",
    "                    _dict['id'] = 'magnification_reply'\n",
    "                    _dict['magnification'] = self.microscope.get_stem_magnification()\n",
    "\n",
    "\n",
    "                case 'defocus_request':\n",
    "                    msg.pop('id')\n",
    "                    if msg['defocus'] is not None:\n",
    "                        self.microscope.set_defocus(msg['defocus'])\n",
    "                    _dict = {}\n",
    "                    _dict['id'] = 'defocus_reply'\n",
    "                    _dict['defocus'] = self.microscope.get_defocus()\n",
    "                case 'disconnect_request':\n",
    "                    self.state = StateController.PROCESSING\n",
    "                    while self.state != StateController.CONNECTED:\n",
    "                        time.sleep(0.01)\n",
    "\n",
    "                    self.state = StateController.IDLE\n",
    "                    _dict = {}\n",
    "                    _dict['id'] = 'disconnect_reply'\n",
    "\n",
    "        self.request_socket.close()\n",
    "        self.publisher_socket.close()\n",
    "        self.context.term()       \n",
    "\n"
   ]
  },
  {
   "cell_type": "code",
   "execution_count": null,
   "metadata": {},
   "outputs": [],
   "source": [
    "import zmq\n",
    "import time\n",
    "\n",
    "connection = \"192.168.0.1\"\n",
    "request_port = 50000\n",
    "publisher_port = 50001\n",
    "\n",
    "context = zmq.Context()\n",
    "request_socket = context.socket(zmq.REQ)\n",
    "publisher_socket = context.socket(zmq.SUB)\n",
    "request_socket.connect(f'tcp://{connection}:{request_port}')\n",
    "publisher_socket.connect(f'tcp://{connection}:{publisher_port}')\n",
    "\n",
    "msg = {\n",
    "    'id': 'connect_request'\n",
    "}\n",
    "request_socket.send_json({'id': 'connect_request'})\n",
    "reply = request_socket.recv_json()\n",
    "\n",
    "print(reply)\n",
    "\n"
   ]
  },
  {
   "cell_type": "code",
   "execution_count": null,
   "metadata": {},
   "outputs": [],
   "source": [
    "\n",
    "msg = {\n",
    "    'id': 'scan_request',\n",
    "    'isscan': False,\n",
    "    'dwell_time': 1*10**-6,\n",
    "    'frame_size': 1024,\n",
    "    'scan_time': 0.63,\n",
    "    'detectors': ['HAADF']\n",
    "}\n",
    "request_socket.send_json(msg)\n",
    "reply = request_socket.recv_json()\n",
    "\n",
    "print(reply)"
   ]
  },
  {
   "cell_type": "code",
   "execution_count": 3,
   "metadata": {},
   "outputs": [
    {
     "name": "stderr",
     "output_type": "stream",
     "text": [
      "2025-04-08 18:17:35,537 - INFO - FEI: FEI, <class 'tomoacquire.microscopes.FEI.FEIMicroscope'>\n",
      "2025-04-08 18:17:35,542 - INFO - TEMSCRIPT: TEMScript, <class 'tomoacquire.microscopes.temscript.TEMSCriptMicroscope'>\n"
     ]
    }
   ],
   "source": [
    "from tomoacquire.registrations import TOMOACQUIRE_MICROSCOPES\n",
    "\n",
    "TOMOACQUIRE_MICROSCOPES.help()"
   ]
  },
  {
   "cell_type": "code",
   "execution_count": null,
   "metadata": {},
   "outputs": [],
   "source": [
    "import numpy as np\n",
    "msg = {\n",
    "    'id': 'move_request',\n",
    "    'x': -6.34e-07,\n",
    "    'y': None,\n",
    "    'z': None,\n",
    "    'tilt': None\n",
    "}\n",
    "\n",
    "request_socket.send_json(msg)\n",
    "reply = request_socket.recv_json()\n",
    "print(reply)"
   ]
  },
  {
   "cell_type": "code",
   "execution_count": null,
   "metadata": {},
   "outputs": [],
   "source": [
    "msg = {\n",
    "    'id': 'postion_request',\n",
    "}\n",
    "request_socket.send_json(msg)\n",
    "reply = request_socket.recv_json()\n",
    "print(reply)"
   ]
  },
  {
   "cell_type": "code",
   "execution_count": null,
   "metadata": {},
   "outputs": [],
   "source": [
    "msg = {\n",
    "    'id': 'defocus_request',\n",
    "    'defocus': 2.3124891679928026e-05\n",
    "}\n",
    "request_socket.send_json(msg)\n",
    "reply = request_socket.recv_json()\n",
    "print(reply)"
   ]
  }
 ],
 "metadata": {
  "kernelspec": {
   "display_name": "tdenv",
   "language": "python",
   "name": "python3"
  },
  "language_info": {
   "codemirror_mode": {
    "name": "ipython",
    "version": 3
   },
   "file_extension": ".py",
   "mimetype": "text/x-python",
   "name": "python",
   "nbconvert_exporter": "python",
   "pygments_lexer": "ipython3",
   "version": "3.12.5"
  }
 },
 "nbformat": 4,
 "nbformat_minor": 2
}

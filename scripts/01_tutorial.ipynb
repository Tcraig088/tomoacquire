{
 "cells": [
  {
   "cell_type": "markdown",
   "metadata": {},
   "source": [
    "# TomoAcquire Tutorial\n",
    "The purpose of this tutorial is to show how to use the Tomoacquire library to connect to a Microscope and obtain a tiltseries. \n",
    "\n"
   ]
  },
  {
   "cell_type": "code",
   "execution_count": null,
   "metadata": {},
   "outputs": [],
   "source": [
    "import tomoacquire\n"
   ]
  },
  {
   "cell_type": "code",
   "execution_count": null,
   "metadata": {},
   "outputs": [],
   "source": [
    "from tomoacquire.registrations import TOMOACQUIRE_MICROSCOPES\n",
    "\n",
    "_dict = {\n",
    "    'name': 'Dummy',\n",
    "    'address': 'localhost',\n",
    "    'port': 0,\n",
    "    'classification': 'FEI',\n",
    "    'magnifications': [100, 200, 500, 1000, 2000, 5000, 10000],\n",
    "    'detectors': ['Channel 1', 'Channel 2'],\n",
    "    'detector_pixelsize': 1*10**-9,\n",
    "}\n",
    "\n",
    "tomoacquire.config.add_microscope(**_dict)"
   ]
  },
  {
   "cell_type": "code",
   "execution_count": null,
   "metadata": {},
   "outputs": [],
   "source": [
    "from tomoacquire.registrations import TOMOACQUIRE_MICROSCOPES\n",
    "\n",
    "magnification_list = [5000, 7100, 10000, 14000, 20000, 28500, 40000, 57000, 80000, 115000, 160000, 225000, 320000, 450000, 640000, 910000, 1300000]\n",
    "_dict = {\n",
    "    'name': 'Titan 1',\n",
    "    'address': '192.168.0.1',\n",
    "    'port': 50000,\n",
    "    'classification': 'FEI',\n",
    "    'magnifications': magnification_list,\n",
    "    'detectors': ['HAADF', 'DF2', 'BF', 'DF4'],\n",
    "    'detector_pixelsize': 1*10**-9,\n",
    "}\n",
    "\n",
    "tomoacquire.config.add_microscope(**_dict)"
   ]
  },
  {
   "cell_type": "markdown",
   "metadata": {},
   "source": [
    "## Tomoacquire "
   ]
  },
  {
   "cell_type": "code",
   "execution_count": null,
   "metadata": {},
   "outputs": [],
   "source": [
    "controller = tomoacquire.Controller()\n",
    "controller.connect('Dummy')"
   ]
  },
  {
   "cell_type": "code",
   "execution_count": null,
   "metadata": {},
   "outputs": [],
   "source": [
    "import tomoacquire\n",
    "controller = tomoacquire.ControllerTest()\n",
    "tomoacquire.views.ConnectView(controller)\n"
   ]
  },
  {
   "cell_type": "code",
   "execution_count": null,
   "metadata": {},
   "outputs": [],
   "source": [
    "tomoacquire.views.ScanView(controller)"
   ]
  }
 ],
 "metadata": {
  "kernelspec": {
   "display_name": "tdenv",
   "language": "python",
   "name": "python3"
  },
  "language_info": {
   "codemirror_mode": {
    "name": "ipython",
    "version": 3
   },
   "file_extension": ".py",
   "mimetype": "text/x-python",
   "name": "python",
   "nbconvert_exporter": "python",
   "pygments_lexer": "ipython3",
   "version": "3.12.5"
  }
 },
 "nbformat": 4,
 "nbformat_minor": 2
}

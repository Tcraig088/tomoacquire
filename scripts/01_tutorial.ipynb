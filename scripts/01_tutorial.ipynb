{
 "cells": [
  {
   "cell_type": "markdown",
   "metadata": {},
   "source": [
    "## TomoAcquire Tutorial\n",
    "\n",
    "### 1. Connect\n"
   ]
  },
  {
   "cell_type": "code",
   "execution_count": null,
   "metadata": {
    "vscode": {
     "languageId": "plaintext"
    }
   },
   "outputs": [],
   "source": [
    "import tomoacquire\n",
    "\n",
    "msg = TwoWayHandler()\n",
    "msg.connect()\n",
    "\n",
    "msg.send(InstrumentSettings())\n",
    "msg"
   ]
  }
 ],
 "metadata": {
  "language_info": {
   "name": "python"
  }
 },
 "nbformat": 4,
 "nbformat_minor": 2
}

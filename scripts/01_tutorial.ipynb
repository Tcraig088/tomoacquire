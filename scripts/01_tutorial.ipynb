{
 "cells": [
  {
   "cell_type": "markdown",
   "metadata": {},
   "source": [
    "# TomoAcquire Tutorial\n",
    "The purpose of this tutorial is to show how to use the Tomoacquire library to connect to a Microscope and obtain a tiltseries. \n",
    "\n"
   ]
  },
  {
   "cell_type": "markdown",
   "metadata": {},
   "source": [
    "## Tomoacquire "
   ]
  },
  {
   "cell_type": "code",
   "execution_count": null,
   "metadata": {},
   "outputs": [],
   "source": [
    "import tomoacquire\n",
    "\n",
    "tomoacquire.register()"
   ]
  },
  {
   "cell_type": "code",
   "execution_count": 1,
   "metadata": {},
   "outputs": [
    {
     "name": "stderr",
     "output_type": "stream",
     "text": [
      "ERROR:root:hyperspy module not found.\n"
     ]
    },
    {
     "ename": "ImportError",
     "evalue": "cannot import name 'CheckableComboBox' from 'tomobase.napari.components' (unknown location)",
     "output_type": "error",
     "traceback": [
      "\u001b[1;31m---------------------------------------------------------------------------\u001b[0m",
      "\u001b[1;31mImportError\u001b[0m                               Traceback (most recent call last)",
      "Cell \u001b[1;32mIn[1], line 1\u001b[0m\n\u001b[1;32m----> 1\u001b[0m \u001b[38;5;28;01mimport\u001b[39;00m \u001b[38;5;21;01mtomoacquire\u001b[39;00m\n\u001b[0;32m      3\u001b[0m scan_settings \u001b[38;5;241m=\u001b[39m tomoacquire\u001b[38;5;241m.\u001b[39mMICROSCOPE\u001b[38;5;241m.\u001b[39mfrom_json(tomoacquire\u001b[38;5;241m.\u001b[39mmicroscopes\u001b[38;5;241m.\u001b[39mget_json(\u001b[38;5;124m\"\u001b[39m\u001b[38;5;124mTitan_1\u001b[39m\u001b[38;5;124m\"\u001b[39m))\u001b[38;5;241m.\u001b[39mconnect()\n\u001b[0;32m      6\u001b[0m \u001b[38;5;66;03m# Show the available settings\u001b[39;00m\n\u001b[0;32m      7\u001b[0m \u001b[38;5;66;03m# See the Microscope class for more information on the available settings\u001b[39;00m\n",
      "File \u001b[1;32mc:\\users\\supervisor\\documents\\github\\timc-projects\\timedependenttomography\\submodules\\tomoacquire\\tomoacquire\\__init__.py:1\u001b[0m\n\u001b[1;32m----> 1\u001b[0m \u001b[38;5;28;01mfrom\u001b[39;00m \u001b[38;5;21;01mtomoacquire\u001b[39;00m \u001b[38;5;28;01mimport\u001b[39;00m napari\n",
      "File \u001b[1;32mc:\\users\\supervisor\\documents\\github\\timc-projects\\timedependenttomography\\submodules\\tomoacquire\\tomoacquire\\napari\\__init__.py:1\u001b[0m\n\u001b[1;32m----> 1\u001b[0m \u001b[38;5;28;01mfrom\u001b[39;00m \u001b[38;5;21;01mtomoacquire\u001b[39;00m\u001b[38;5;21;01m.\u001b[39;00m\u001b[38;5;21;01mnapari\u001b[39;00m \u001b[38;5;28;01mimport\u001b[39;00m processes\n\u001b[0;32m      2\u001b[0m \u001b[38;5;28;01mfrom\u001b[39;00m \u001b[38;5;21;01mtomoacquire\u001b[39;00m\u001b[38;5;21;01m.\u001b[39;00m\u001b[38;5;21;01mnapari\u001b[39;00m\u001b[38;5;21;01m.\u001b[39;00m\u001b[38;5;21;01mbase\u001b[39;00m \u001b[38;5;28;01mimport\u001b[39;00m AcquistionMenuWidget\n",
      "File \u001b[1;32mc:\\users\\supervisor\\documents\\github\\timc-projects\\timedependenttomography\\submodules\\tomoacquire\\tomoacquire\\napari\\processes\\__init__.py:1\u001b[0m\n\u001b[1;32m----> 1\u001b[0m \u001b[38;5;28;01mfrom\u001b[39;00m \u001b[38;5;21;01mtomoacquire\u001b[39;00m\u001b[38;5;21;01m.\u001b[39;00m\u001b[38;5;21;01mnapari\u001b[39;00m\u001b[38;5;21;01m.\u001b[39;00m\u001b[38;5;21;01mprocesses\u001b[39;00m\u001b[38;5;21;01m.\u001b[39;00m\u001b[38;5;21;01minstrument\u001b[39;00m \u001b[38;5;28;01mimport\u001b[39;00m InstrumentWidget\n\u001b[0;32m      2\u001b[0m \u001b[38;5;28;01mfrom\u001b[39;00m \u001b[38;5;21;01mtomoacquire\u001b[39;00m\u001b[38;5;21;01m.\u001b[39;00m\u001b[38;5;21;01mnapari\u001b[39;00m\u001b[38;5;21;01m.\u001b[39;00m\u001b[38;5;21;01mprocesses\u001b[39;00m\u001b[38;5;21;01m.\u001b[39;00m\u001b[38;5;21;01mexperiment\u001b[39;00m \u001b[38;5;28;01mimport\u001b[39;00m ExperimentWidget\n",
      "File \u001b[1;32mc:\\users\\supervisor\\documents\\github\\timc-projects\\timedependenttomography\\submodules\\tomoacquire\\tomoacquire\\napari\\processes\\instrument.py:7\u001b[0m\n\u001b[0;32m      5\u001b[0m \u001b[38;5;28;01mimport\u001b[39;00m \u001b[38;5;21;01mjson\u001b[39;00m\n\u001b[0;32m      6\u001b[0m \u001b[38;5;28;01mimport\u001b[39;00m \u001b[38;5;21;01mos\u001b[39;00m\n\u001b[1;32m----> 7\u001b[0m \u001b[38;5;28;01mfrom\u001b[39;00m \u001b[38;5;21;01mtomobase\u001b[39;00m\u001b[38;5;21;01m.\u001b[39;00m\u001b[38;5;21;01mnapari\u001b[39;00m\u001b[38;5;21;01m.\u001b[39;00m\u001b[38;5;21;01mcomponents\u001b[39;00m \u001b[38;5;28;01mimport\u001b[39;00m CheckableComboBox, CollapsableWidget\n\u001b[0;32m      8\u001b[0m \u001b[38;5;28;01mimport\u001b[39;00m \u001b[38;5;21;01mnumpy\u001b[39;00m \u001b[38;5;28;01mas\u001b[39;00m \u001b[38;5;21;01mnp\u001b[39;00m\n\u001b[0;32m     11\u001b[0m \u001b[38;5;28;01mfrom\u001b[39;00m \u001b[38;5;21;01mtomobase\u001b[39;00m \u001b[38;5;28;01mimport\u001b[39;00m TOMOBASE_DATATYPES\n",
      "\u001b[1;31mImportError\u001b[0m: cannot import name 'CheckableComboBox' from 'tomobase.napari.components' (unknown location)"
     ]
    }
   ],
   "source": [
    "import tomoacquire\n",
    "scan_settings = tomoacquire.connect\n",
    "scan_settings = tomoacquire.MICROSCOPE.from_json(tomoacquire.microscopes.get_json(\"Titan_1\")).connect()\n",
    "\n",
    "\n",
    "# Show the available settings\n",
    "# See the Microscope class for more information on the available settings\n",
    "scan_settings.detectors['HAADF'] = True\n",
    "scan_settings.acquisition.frame_size = 1024 #pixels\n",
    "scan_settings.acquisition.dwell_time = 1 * (10**-6)  #per pixel dwell time in seconds\n",
    "scan_settings.acquisition.frame_time = 1 * (10**-6) * (1024*1024) * 1.1 #optional\n",
    "\n",
    "scan_settings.scanning.frame_size = 1024 #pixels\n",
    "scan_settings.scanning.dwell_time = 1 * (10**-6)  #per pixel dwell time in seconds\n",
    "scan_settings.scanning.frame_time = 1 * (10**-6) * (1024*1024) * 1.1 #optional\n",
    "\n",
    "scan_window = scan_settings.apply()\n",
    "scan_window.show()\n"
   ]
  },
  {
   "cell_type": "code",
   "execution_count": null,
   "metadata": {},
   "outputs": [],
   "source": []
  }
 ],
 "metadata": {
  "kernelspec": {
   "display_name": "tdenv",
   "language": "python",
   "name": "python3"
  },
  "language_info": {
   "codemirror_mode": {
    "name": "ipython",
    "version": 3
   },
   "file_extension": ".py",
   "mimetype": "text/x-python",
   "name": "python",
   "nbconvert_exporter": "python",
   "pygments_lexer": "ipython3",
   "version": "3.12.5"
  }
 },
 "nbformat": 4,
 "nbformat_minor": 2
}

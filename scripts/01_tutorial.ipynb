{
 "cells": [
  {
   "cell_type": "markdown",
   "metadata": {},
   "source": [
    "# TomoAcquire Tutorial\n",
    "The purpose of this tutorial is to show how to use the Tomoacquire library to connect to a Microscope and obtain a tiltseries. \n",
    "\n"
   ]
  },
  {
   "cell_type": "code",
   "execution_count": null,
   "metadata": {},
   "outputs": [],
   "source": [
    "import tomoacquire\n"
   ]
  },
  {
   "cell_type": "code",
   "execution_count": null,
   "metadata": {},
   "outputs": [],
   "source": [
    "from tomoacquire.registrations import TOMOACQUIRE_MICROSCOPES\n",
    "\n",
    "_dict = {\n",
    "    'name': 'Dummy',\n",
    "    'address': 'localhost',\n",
    "    'port': 0,\n",
    "    'classification': 'FEI',\n",
    "    'magnifications': [100, 200, 500, 1000, 2000, 5000, 10000],\n",
    "    'detectors': ['Channel 1', 'Channel 2'],\n",
    "    'detector_pixelsize': 1*10**-9,\n",
    "}\n",
    "\n",
    "tomoacquire.config.add_microscope(**_dict)"
   ]
  },
  {
   "cell_type": "code",
   "execution_count": 3,
   "metadata": {},
   "outputs": [],
   "source": [
    "from tomoacquire.registrations import TOMOACQUIRE_MICROSCOPES\n",
    "\n",
    "magnification_list = [5000, 7100, 10000, 14000, 20000, 28500, 40000, 57000, 80000, 115000, 160000, 225000, 320000, 450000, 640000, 910000, 1300000]\n",
    "_dict = {\n",
    "    'name': 'Titan 1',\n",
    "    'address': '192.168.0.1',\n",
    "    'port': 50000,\n",
    "    'classification': 'FEI',\n",
    "    'magnifications': magnification_list,\n",
    "    'detectors': ['HAADF', 'DF2', 'BF', 'DF4'],\n",
    "    'detector_pixelsize': 1*10**-9,\n",
    "}\n",
    "\n",
    "tomoacquire.config.add_microscope(**_dict)"
   ]
  },
  {
   "cell_type": "markdown",
   "metadata": {},
   "source": [
    "## Tomoacquire "
   ]
  },
  {
   "cell_type": "code",
   "execution_count": 4,
   "metadata": {},
   "outputs": [
    {
     "ename": "TypeError",
     "evalue": "FEIMicroscope.__init__() takes 4 positional arguments but 6 were given",
     "output_type": "error",
     "traceback": [
      "\u001b[1;31m---------------------------------------------------------------------------\u001b[0m",
      "\u001b[1;31mTypeError\u001b[0m                                 Traceback (most recent call last)",
      "Cell \u001b[1;32mIn[4], line 2\u001b[0m\n\u001b[0;32m      1\u001b[0m controller \u001b[38;5;241m=\u001b[39m tomoacquire\u001b[38;5;241m.\u001b[39mController()\n\u001b[1;32m----> 2\u001b[0m controller\u001b[38;5;241m.\u001b[39mconnect(\u001b[38;5;124m'\u001b[39m\u001b[38;5;124mDummy\u001b[39m\u001b[38;5;124m'\u001b[39m)\n",
      "File \u001b[1;32mc:\\users\\tcrai\\documents\\code\\python\\timedependenttomo\\timedependenttomography\\submodules\\tomoacquire\\tomoacquire\\controllers\\base.py:182\u001b[0m, in \u001b[0;36mController.connect\u001b[1;34m(self, microscope_name)\u001b[0m\n\u001b[0;32m    181\u001b[0m \u001b[38;5;28;01mdef\u001b[39;00m \u001b[38;5;21mconnect\u001b[39m(\u001b[38;5;28mself\u001b[39m, microscope_name):\n\u001b[1;32m--> 182\u001b[0m     \u001b[38;5;28mself\u001b[39m\u001b[38;5;241m.\u001b[39mmicroscope \u001b[38;5;241m=\u001b[39m mc\u001b[38;5;241m.\u001b[39mget_microscope(microscope_name)\n\u001b[0;32m    183\u001b[0m     \u001b[38;5;28mself\u001b[39m\u001b[38;5;241m.\u001b[39mstate \u001b[38;5;241m=\u001b[39m MicroscopeState\u001b[38;5;241m.\u001b[39mConnected\n",
      "File \u001b[1;32mc:\\users\\tcrai\\documents\\code\\python\\timedependenttomo\\timedependenttomography\\submodules\\tomoacquire\\tomoacquire\\config.py:75\u001b[0m, in \u001b[0;36mget_microscope\u001b[1;34m(name)\u001b[0m\n\u001b[0;32m     72\u001b[0m detector_pixelsize \u001b[38;5;241m=\u001b[39m microscope[\u001b[38;5;124m'\u001b[39m\u001b[38;5;124mdetector_pixelsize\u001b[39m\u001b[38;5;124m'\u001b[39m]\n\u001b[0;32m     74\u001b[0m mclass \u001b[38;5;241m=\u001b[39m TOMOACQUIRE_MICROSCOPES[classification]\u001b[38;5;241m.\u001b[39mcontroller\n\u001b[1;32m---> 75\u001b[0m \u001b[38;5;28;01mreturn\u001b[39;00m mclass(address, port, magnifications, detectors, detector_pixelsize)\n",
      "\u001b[1;31mTypeError\u001b[0m: FEIMicroscope.__init__() takes 4 positional arguments but 6 were given"
     ]
    }
   ],
   "source": [
    "controller = tomoacquire.Controller()\n",
    "controller.connect('Dummy')"
   ]
  },
  {
   "cell_type": "code",
   "execution_count": null,
   "metadata": {},
   "outputs": [],
   "source": [
    "print(controller.microscope._scan_dwell)\n"
   ]
  },
  {
   "cell_type": "code",
   "execution_count": null,
   "metadata": {},
   "outputs": [],
   "source": []
  }
 ],
 "metadata": {
  "kernelspec": {
   "display_name": "tomo-nap-env",
   "language": "python",
   "name": "python3"
  },
  "language_info": {
   "codemirror_mode": {
    "name": "ipython",
    "version": 3
   },
   "file_extension": ".py",
   "mimetype": "text/x-python",
   "name": "python",
   "nbconvert_exporter": "python",
   "pygments_lexer": "ipython3",
   "version": "3.11.9"
  }
 },
 "nbformat": 4,
 "nbformat_minor": 2
}

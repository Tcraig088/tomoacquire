{
 "cells": [
  {
   "cell_type": "markdown",
   "metadata": {},
   "source": [
    "# TomoAcquire Tutorial\n",
    "The purpose of this tutorial is to show how to use the Tomoacquire library to connect to a Microscope and obtain a tiltseries. \n",
    "\n"
   ]
  },
  {
   "cell_type": "markdown",
   "metadata": {},
   "source": [
    "1.1. Imports \n",
    "\n",
    "Import the TOMOACQUIRE_PROTOCOLS global variable this is a library of registered connection interfaces. \n",
    "\n",
    "As of current The only registered type is REQUEST_SUBSCRIBE. However, the hooks interface of tomoacquire allows users to add protocols as needed. \n",
    "The REQUEST_SUBSCRIBE Protocol currently supports the TEMScript interface of Tomocontroller using:\n",
    "- FEI TITAN and TECHNAI  \n",
    "- Dummy Microscopes\n",
    "\n",
    "The Request Subscribe protocol uses the zmq request reply messaging protocol to send messages to the microscope and publish subsribe for recieving event based messages from the microscope. Please see the protocols documentation for more details or read the documentation for [PyZMQ](https://github.com/zeromq/pyzmq). "
   ]
  },
  {
   "cell_type": "code",
   "execution_count": null,
   "metadata": {},
   "outputs": [],
   "source": [
    "import tomoacquire\n",
    "from tomobase.log import logger\n",
    "from tomoacquire.registrations import TOMOACQUIRE_PROTOCOLS\n",
    "from magicgui import use_app\n",
    "use_app(\"ipynb\")\n",
    "\n",
    "\n",
    "microscope = None\n",
    "def callback(result):\n",
    "    global microscope\n",
    "    logger.info(f\"Microscope registered\")\n",
    "    microscope = result\n",
    "\n",
    "key = 'REQUEST_SUBSCRIBE'\n",
    "Protocol = TOMOACQUIRE_PROTOCOLS[key].value\n",
    "Protocol.new.changed.connect(callback)\n",
    "Protocol.new.show()\n",
    "\n",
    "# can also be called as \n",
    "# microscope = Protocol.new(address=\"192.168.0.1\", request=50000, subscribe=50001, save=False)\n"
   ]
  },
  {
   "cell_type": "code",
   "execution_count": null,
   "metadata": {},
   "outputs": [],
   "source": [
    "import tomoacquire\n",
    "from magicgui import use_app\n",
    "use_app(\"ipynb\")\n",
    "\n",
    "microscope = tomoacquire.get_device('Dummy Microscope')\n",
    "# saved devices can be removed using the remove_device method\n",
    "#tomoacquire.remove_device('Dummy Microscope')\n",
    "\n"
   ]
  },
  {
   "cell_type": "markdown",
   "metadata": {},
   "source": [
    "1.2. Connect Device \n",
    "\n",
    "Once a device is connected "
   ]
  },
  {
   "cell_type": "code",
   "execution_count": null,
   "metadata": {},
   "outputs": [],
   "source": [
    "microscope.connect.show()"
   ]
  },
  {
   "cell_type": "markdown",
   "metadata": {},
   "source": [
    "1.3. \n",
    "\n",
    "microscope."
   ]
  },
  {
   "cell_type": "code",
   "execution_count": null,
   "metadata": {},
   "outputs": [],
   "source": [
    "microscope.Stage.set.show()\n",
    "microscope.Controls.set.show()"
   ]
  },
  {
   "cell_type": "markdown",
   "metadata": {},
   "source": [
    "1.4. Experiments"
   ]
  },
  {
   "cell_type": "code",
   "execution_count": null,
   "metadata": {},
   "outputs": [],
   "source": [
    "from tomoacquire.registrations import TOMOACQUIRE_EXPERIMENTS\n",
    "\n",
    "experiment = TOMOACQUIRE_EXPERIMENTS['IMAGING'].value\n",
    "experiment\n",
    "\n"
   ]
  },
  {
   "cell_type": "code",
   "execution_count": null,
   "metadata": {},
   "outputs": [],
   "source": [
    "from tomobase.tiltschemes import GRS\n",
    "\n",
    "tilt_scheme = GRS(-70, 70, 0)\n",
    "experiment = TOMOACQUIRE_EXPERIMENTS['IMAGING'].value\n",
    "\n"
   ]
  },
  {
   "cell_type": "markdown",
   "metadata": {},
   "source": [
    "1.5. Disconnect"
   ]
  },
  {
   "cell_type": "code",
   "execution_count": null,
   "metadata": {},
   "outputs": [],
   "source": []
  }
 ],
 "metadata": {
  "kernelspec": {
   "display_name": "total-env",
   "language": "python",
   "name": "python3"
  },
  "language_info": {
   "codemirror_mode": {
    "name": "ipython",
    "version": 3
   },
   "file_extension": ".py",
   "mimetype": "text/x-python",
   "name": "python",
   "nbconvert_exporter": "python",
   "pygments_lexer": "ipython3",
   "version": "3.11.11"
  }
 },
 "nbformat": 4,
 "nbformat_minor": 2
}

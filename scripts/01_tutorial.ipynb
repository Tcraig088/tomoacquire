{
 "cells": [
  {
   "cell_type": "markdown",
   "metadata": {},
   "source": [
    "# TomoAcquire Tutorial\n",
    "The purpose of this tutorial is to show how to use the Tomoacquire library to connect to a Microscope and obtain a tiltseries. \n",
    "\n"
   ]
  },
  {
   "cell_type": "markdown",
   "metadata": {},
   "source": [
    "## Tomoacquire "
   ]
  },
  {
   "cell_type": "code",
   "execution_count": 1,
   "metadata": {},
   "outputs": [
    {
     "name": "stderr",
     "output_type": "stream",
     "text": [
      "ERROR:root:hyperspy module not found.\n"
     ]
    },
    {
     "name": "stdout",
     "output_type": "stream",
     "text": [
      "c:\\users\\supervisor\\documents\\github\\timc-projects\\timedependenttomography\\submodules\\tomoacquire\\tomoacquire\\microscopes.json\n"
     ]
    },
    {
     "data": {
      "application/vnd.jupyter.widget-view+json": {
       "model_id": "a0a59c8b029d41e7a9f51b382226e3f9",
       "version_major": 2,
       "version_minor": 0
      },
      "text/plain": [
       "VBox(children=(GridBox(children=(Text(value='New Microscope', description='Name:'), Text(value='localhost', de…"
      ]
     },
     "metadata": {},
     "output_type": "display_data"
    },
    {
     "name": "stdout",
     "output_type": "stream",
     "text": [
      "c:\\users\\supervisor\\documents\\github\\timc-projects\\timedependenttomography\\submodules\\tomoacquire\\tomoacquire\\microscopes.json\n",
      "     name      address   port type  detectors  \\\n",
      "0  Titan1  192.168.0.1  50000  FEI          1   \n",
      "\n",
      "                                      magnifications  \n",
      "0  [5000, 7100, 10000, 14000, 20000, 28500, 40000...  \n",
      "FEI\n",
      "192.168.0.1 50000\n",
      "<class 'str'> <class 'numpy.int64'>\n"
     ]
    },
    {
     "data": {
      "application/vnd.jupyter.widget-view+json": {
       "model_id": "f41ec08ba38f463f8ab40af236336b28",
       "version_major": 2,
       "version_minor": 0
      },
      "text/plain": [
       "VBox(children=(SelectMultiple(description='Detectors:', options=('HAADF', 'DF2', 'DF4', 'BF'), value=()), IntS…"
      ]
     },
     "metadata": {},
     "output_type": "display_data"
    },
    {
     "name": "stdout",
     "output_type": "stream",
     "text": [
      "('HAADF', 'DF2')\n",
      "MicroscopeState.Connected\n",
      "set imaging mode\n",
      "(2, 1024, 1024) (2, 1024, 1024)\n"
     ]
    },
    {
     "data": {
      "application/vnd.jupyter.widget-view+json": {
       "model_id": "b26b9578626c40d5b3fbb34964103e97",
       "version_major": 2,
       "version_minor": 0
      },
      "text/plain": [
       "HBox(children=(HBox(children=(VBox(children=(VBox(children=(HBox(children=(VBox(children=(ImageWidget(height=1…"
      ]
     },
     "metadata": {},
     "output_type": "display_data"
    },
    {
     "name": "stdout",
     "output_type": "stream",
     "text": [
      "image_timings {'image_size': 'FULL', 'binning': 2.0, 'dwell_time(s)': 1e-06}\n",
      "start acquisition\n",
      "1e-06\n",
      "_dict\n"
     ]
    },
    {
     "ename": "AttributeError",
     "evalue": "'Controller' object has no attribute 'show_scan'",
     "output_type": "error",
     "traceback": [
      "\u001b[1;31m---------------------------------------------------------------------------\u001b[0m",
      "\u001b[1;31mAttributeError\u001b[0m                            Traceback (most recent call last)",
      "File \u001b[1;32mc:\\users\\supervisor\\documents\\github\\timc-projects\\timedependenttomography\\submodules\\tomoacquire\\tomoacquire\\controllers\\base.py:157\u001b[0m, in \u001b[0;36mController._on_imaging\u001b[1;34m(self, b)\u001b[0m\n\u001b[0;32m    155\u001b[0m acq_thread \u001b[38;5;241m=\u001b[39m Thread(target\u001b[38;5;241m=\u001b[39m\u001b[38;5;28mself\u001b[39m\u001b[38;5;241m.\u001b[39macquire)\n\u001b[0;32m    156\u001b[0m acq_thread\u001b[38;5;241m.\u001b[39mstart()\n\u001b[1;32m--> 157\u001b[0m \u001b[38;5;28;43mself\u001b[39;49m\u001b[38;5;241;43m.\u001b[39;49m\u001b[43mshow_scan\u001b[49m()\n",
      "\u001b[1;31mAttributeError\u001b[0m: 'Controller' object has no attribute 'show_scan'"
     ]
    },
    {
     "name": "stdout",
     "output_type": "stream",
     "text": [
      "{'HAADF': array([[ 2137,  2110,  2112, ..., 11949, 12904, 12087],\n",
      "       [ 2150,  2148,  2139, ..., 14384, 12199, 13589],\n",
      "       [ 2103,  2141,  2137, ..., 14403, 14364, 13198],\n",
      "       ...,\n",
      "       [ 2112,  2117,  2105, ...,  2280,  2121,  2127],\n",
      "       [ 2156,  2147,  2156, ...,  2136,  2140,  2145],\n",
      "       [ 2086,  2087,  2129, ...,  2139,  2112,  2124]])}\n",
      "_dict\n",
      "{'HAADF': array([[ 2153,  2160,  2140, ..., 13224, 14342, 12594],\n",
      "       [ 2176,  2153,  2139, ..., 15380, 12583, 11840],\n",
      "       [ 2181,  2133,  2136, ..., 14562, 15434, 11224],\n",
      "       ...,\n",
      "       [ 2127,  2143,  2140, ...,  2145,  2138,  2134],\n",
      "       [ 2138,  2121,  2126, ...,  2118,  2124,  2138],\n",
      "       [ 2156,  2149,  2553, ...,  2140,  2166,  2129]])}\n",
      "_dict\n",
      "{'HAADF': array([[ 2138,  2126,  2102, ..., 15198, 13713, 13842],\n",
      "       [ 2152,  2146,  2168, ..., 13282, 18383, 12967],\n",
      "       [ 2584,  2178,  2135, ..., 10636,  9438, 10966],\n",
      "       ...,\n",
      "       [ 2229,  2122,  2154, ...,  2155,  2111,  2129],\n",
      "       [ 2143,  2154,  2155, ...,  2103,  2126,  2159],\n",
      "       [ 2132,  2118,  2116, ...,  2124,  2123,  2112]])}\n",
      "_dict\n",
      "{'HAADF': array([[ 2113,  2138,  2133, ..., 13579, 11494, 10444],\n",
      "       [ 2142,  2119,  2119, ..., 14342, 13864, 11145],\n",
      "       [ 2264,  2783,  2240, ..., 14125, 14446, 14335],\n",
      "       ...,\n",
      "       [ 2138,  2125,  2136, ...,  2088,  2135,  2122],\n",
      "       [ 2165,  2135,  2114, ...,  2150,  2139,  2508],\n",
      "       [ 2121,  2129,  2131, ...,  2124,  2134,  2150]])}\n",
      "_dict\n",
      "{'HAADF': array([[ 2089,  2134,  2199, ..., 13644, 14252, 10825],\n",
      "       [ 2147,  2130,  2137, ..., 12484, 11677, 16932],\n",
      "       [ 2145,  2141,  2131, ..., 11045, 12246, 10098],\n",
      "       ...,\n",
      "       [ 2110,  2112,  2341, ...,  2115,  2128,  2123],\n",
      "       [ 2168,  2128,  2132, ...,  2158,  2147,  2135],\n",
      "       [ 2100,  2134,  2181, ...,  2138,  2128,  2307]])}\n",
      "_dict\n",
      "{'HAADF': array([[ 2131,  2370,  2206, ..., 11601, 14802, 10134],\n",
      "       [ 2142,  2150,  2134, ..., 12374, 11709,  9006],\n",
      "       [ 2195,  2105,  2147, ...,  9385,  8687, 10992],\n",
      "       ...,\n",
      "       [ 2144,  2121,  2090, ...,  2203,  2147,  2100],\n",
      "       [ 2139,  2153,  2146, ...,  2160,  2150,  2160],\n",
      "       [ 2126,  2102,  2106, ...,  2111,  2120,  2122]])}\n",
      "_dict\n",
      "{'HAADF': array([[ 2210,  2213,  2114, ..., 13622, 12954, 12742],\n",
      "       [ 2149,  2144,  2150, ..., 13361, 12099, 14038],\n",
      "       [ 2114,  2115,  2147, ..., 14016, 15496, 12658],\n",
      "       ...,\n",
      "       [ 2112,  2120,  2103, ...,  2126,  2116,  2126],\n",
      "       [ 2144,  2150,  2120, ...,  2116,  2173,  2136],\n",
      "       [ 2123,  2118,  2144, ...,  2120,  2104,  2124]])}\n",
      "_dict\n",
      "{'HAADF': array([[ 2120,  2195,  2137, ..., 13628, 12756, 11345],\n",
      "       [ 2223,  2268,  2506, ..., 10222, 11002, 11638],\n",
      "       [ 2139,  2145,  2127, ..., 13034, 13237, 12929],\n",
      "       ...,\n",
      "       [ 2112,  2093,  2144, ...,  2194,  2160,  2125],\n",
      "       [ 2132,  2138,  2144, ...,  2146,  2138,  2144],\n",
      "       [ 2093,  2109,  2144, ...,  2104,  2098,  2148]])}\n",
      "_dict\n"
     ]
    }
   ],
   "source": [
    "import tomoacquire\n",
    "\n",
    "controller = tomoacquire.Controller()\n",
    "controller.show()"
   ]
  },
  {
   "cell_type": "code",
   "execution_count": null,
   "metadata": {},
   "outputs": [],
   "source": [
    "print(controller.microscope._scan_dwell)\n"
   ]
  },
  {
   "cell_type": "code",
   "execution_count": null,
   "metadata": {},
   "outputs": [],
   "source": []
  }
 ],
 "metadata": {
  "kernelspec": {
   "display_name": "tdenv",
   "language": "python",
   "name": "python3"
  },
  "language_info": {
   "codemirror_mode": {
    "name": "ipython",
    "version": 3
   },
   "file_extension": ".py",
   "mimetype": "text/x-python",
   "name": "python",
   "nbconvert_exporter": "python",
   "pygments_lexer": "ipython3",
   "version": "3.12.5"
  }
 },
 "nbformat": 4,
 "nbformat_minor": 2
}

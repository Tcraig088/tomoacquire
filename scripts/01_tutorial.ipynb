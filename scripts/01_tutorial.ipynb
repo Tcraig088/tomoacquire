{
 "cells": [
  {
   "cell_type": "markdown",
   "metadata": {},
   "source": [
    "# TomoAcquire Tutorial\n",
    "The purpose of this tutorial is to show how to use the Tomoacquire library to connect to a Microscope and obtain a tiltseries. \n",
    "\n"
   ]
  },
  {
   "cell_type": "markdown",
   "metadata": {},
   "source": [
    "## Tomoacquire "
   ]
  },
  {
   "cell_type": "code",
   "execution_count": null,
   "metadata": {},
   "outputs": [],
   "source": [
    "import tomoacquire\n",
    "\n",
    "scan_settings = tomoacquire.MICROSCOPE.from_json(tomoacquire.microscopes.get_json(\"Titan_1\")).connect()\n",
    "\n",
    "\n",
    "# Show the available settings\n",
    "# See the Microscope class for more information on the available settings\n",
    "\n",
    "\n",
    "scan_settings.detectors['HAADF'] = True\n",
    "\n",
    "scan_settings.acquisition.frame_size = 1024 #pixels\n",
    "scan_settings.acquisition.dwell_time = 1 * (10**-6)  #per pixel dwell time in seconds\n",
    "scan_settings.acquisition.frame_time = 1 * (10**-6) * (1024*1024) * 1.1 #optional\n",
    "\n",
    "scan_settings.scanning.frame_size = 1024 #pixels\n",
    "scan_settings.scanning.dwell_time = 1 * (10**-6)  #per pixel dwell time in seconds\n",
    "scan_settings.scanning.frame_time = 1 * (10**-6) * (1024*1024) * 1.1 #optional\n",
    "\n",
    "scan_window = scan_settings.apply()\n",
    "scan_window.show()\n"
   ]
  }
 ],
 "metadata": {
  "kernelspec": {
   "display_name": "tomo-dipster",
   "language": "python",
   "name": "python3"
  },
  "language_info": {
   "name": "python",
   "version": "3.11.5"
  }
 },
 "nbformat": 4,
 "nbformat_minor": 2
}
